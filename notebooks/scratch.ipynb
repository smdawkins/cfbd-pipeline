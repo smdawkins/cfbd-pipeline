{
 "cells": [
  {
   "cell_type": "code",
   "execution_count": 0,
   "metadata": {
    "application/vnd.databricks.v1+cell": {
     "cellMetadata": {
      "byteLimit": 2048000,
      "rowLimit": 10000
     },
     "inputWidgets": {},
     "nuid": "334803c3-7d97-47dd-931c-6528e2a9fadd",
     "showTitle": false,
     "tableResultSettingsMap": {},
     "title": ""
    }
   },
   "outputs": [],
   "source": [
    "from src.cfbd.http import build_session, fetch_json\n",
    "from src.cfbd.bronze import write_bronze_raw\n",
    "from src.cfbd.silver import infer_schema_from_sample, parse_raw_to_cols, flatten_structs_until_done, flatten_and_explode_all\n",
    "from src.cfbd.endpoints import ENDPOINTS\n",
    "from pyspark.sql import functions as F\n",
    "\n",
    "season = '2024'\n",
    "week = '1'\n",
    "conf = ENDPOINTS[\"games_teams\"]\n",
    "url_path = conf[\"url\"]({\"season\": season, \"week\": week})\n",
    "BASE_URL = \"https://api.collegefootballdata.com\"\n",
    "session = build_session('q2/Q+Rt9eXGTIcqMDyS+zJqWtpLFh+Apw63Duq7fkShYWeEM0XYHXLHCMbViq8G6')\n",
    "records = fetch_json(session, BASE_URL, url_path)\n",
    "\n",
    "print (records)"
   ]
  }
 ],
 "metadata": {
  "application/vnd.databricks.v1+notebook": {
   "computePreferences": null,
   "dashboards": [],
   "environmentMetadata": {
    "base_environment": "",
    "environment_version": "2"
   },
   "inputWidgetPreferences": null,
   "language": "python",
   "notebookMetadata": {
    "pythonIndentUnit": 4
   },
   "notebookName": "scratch",
   "widgets": {}
  },
  "language_info": {
   "name": "python"
  }
 },
 "nbformat": 4,
 "nbformat_minor": 0
}
