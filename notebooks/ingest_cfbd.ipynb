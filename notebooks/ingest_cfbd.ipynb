{
 "cells": [
  {
   "cell_type": "code",
   "execution_count": 0,
   "metadata": {
    "application/vnd.databricks.v1+cell": {
     "cellMetadata": {
      "byteLimit": 2048000,
      "rowLimit": 10000
     },
     "inputWidgets": {},
     "nuid": "f24e32f4-42bb-4714-89cc-a813390015df",
     "showTitle": false,
     "tableResultSettingsMap": {},
     "title": ""
    }
   },
   "outputs": [],
   "source": [
    "!pip install -e \"/Workspace/Users/stephen@dawkinsdigital.com/cfbd-pipeline/\""
   ]
  },
  {
   "cell_type": "code",
   "execution_count": 0,
   "metadata": {
    "application/vnd.databricks.v1+cell": {
     "cellMetadata": {
      "byteLimit": 2048000,
      "rowLimit": 10000
     },
     "inputWidgets": {},
     "nuid": "da851440-b3e8-437d-8846-6f72e0ab9e94",
     "showTitle": false,
     "tableResultSettingsMap": {},
     "title": ""
    }
   },
   "outputs": [],
   "source": [
    "\n",
    "\n",
    "# Databricks notebook\n",
    "dbutils.widgets.text(\"endpoint\", \"games_teams\")\n",
    "dbutils.widgets.text(\"season\", \"2024\")\n",
    "dbutils.widgets.text(\"week\", \"1\")\n",
    "dbutils.widgets.text(\"division\", \"fbs\")\n",
    "dbutils.widgets.text(\"catalog\", \"cfbd\")\n",
    "\n",
    "endpoint = dbutils.widgets.get(\"endpoint\")\n",
    "season   = int(dbutils.widgets.get(\"season\"))\n",
    "week     = int(dbutils.widgets.get(\"week\"))\n",
    "division = dbutils.widgets.get(\"division\")\n",
    "catalog  = dbutils.widgets.get(\"catalog\")\n",
    "\n",
    "bronze_schema = f\"{catalog}.bronze\"\n",
    "spark.sql(f\"CREATE CATALOG IF NOT EXISTS {catalog}\")\n",
    "spark.sql(f\"CREATE SCHEMA  IF NOT EXISTS {bronze_schema}\")\n",
    "\n",
    "from cfbd.jobs import run_ingest_to_bronze\n",
    "\n",
    "api_key = dbutils.secrets.get(\"cfbd\", \"api-key\")  # scope 'cfbd', key 'api_key'\n",
    "\n",
    "tbl = run_ingest_to_bronze(spark, api_key, bronze_schema, endpoint, season, week)\n",
    "print(f\"Bronze table: {tbl}\")\n"
   ]
  }
 ],
 "metadata": {
  "application/vnd.databricks.v1+notebook": {
   "computePreferences": {
    "hardware": {
     "accelerator": null,
     "gpuPoolId": null,
     "memory": null
    }
   },
   "dashboards": [],
   "environmentMetadata": {
    "base_environment": "/Workspace/Users/stephen@dawkinsdigital.com/cfbd-pipeline/databricks.yml",
    "dependencies": [
     "/Workspace/Users/stephen@dawkinsdigital.com/cfbd-pipeline/dist/cfbd_pipeline-0.0.1-py3-none-any.whl"
    ],
    "environment_version": "2"
   },
   "inputWidgetPreferences": null,
   "language": "python",
   "notebookMetadata": {
    "pythonIndentUnit": 4
   },
   "notebookName": "ingest_cfbd",
   "widgets": {
    "catalog": {
     "currentValue": "cfbd",
     "nuid": "1292ff69-c169-4696-b73b-a59ed79d7143",
     "typedWidgetInfo": {
      "autoCreated": false,
      "defaultValue": "cfbd",
      "label": null,
      "name": "catalog",
      "options": {
       "widgetDisplayType": "Text",
       "validationRegex": null
      },
      "parameterDataType": "String"
     },
     "widgetInfo": {
      "widgetType": "text",
      "defaultValue": "cfbd",
      "label": null,
      "name": "catalog",
      "options": {
       "widgetType": "text",
       "autoCreated": null,
       "validationRegex": null
      }
     }
    },
    "division": {
     "currentValue": "fbs",
     "nuid": "ec188a3c-784f-4a75-87ee-a6554ffed374",
     "typedWidgetInfo": {
      "autoCreated": false,
      "defaultValue": "fbs",
      "label": null,
      "name": "division",
      "options": {
       "widgetDisplayType": "Text",
       "validationRegex": null
      },
      "parameterDataType": "String"
     },
     "widgetInfo": {
      "widgetType": "text",
      "defaultValue": "fbs",
      "label": null,
      "name": "division",
      "options": {
       "widgetType": "text",
       "autoCreated": null,
       "validationRegex": null
      }
     }
    },
    "endpoint": {
     "currentValue": "games_teams",
     "nuid": "71f69673-4843-4ff3-a265-954e8a2ed2af",
     "typedWidgetInfo": {
      "autoCreated": false,
      "defaultValue": "games_teams",
      "label": null,
      "name": "endpoint",
      "options": {
       "widgetDisplayType": "Text",
       "validationRegex": null
      },
      "parameterDataType": "String"
     },
     "widgetInfo": {
      "widgetType": "text",
      "defaultValue": "games_teams",
      "label": null,
      "name": "endpoint",
      "options": {
       "widgetType": "text",
       "autoCreated": null,
       "validationRegex": null
      }
     }
    },
    "season": {
     "currentValue": "2024",
     "nuid": "aa0749c6-99b8-4234-8d21-48ea07ab91c7",
     "typedWidgetInfo": {
      "autoCreated": false,
      "defaultValue": "2024",
      "label": null,
      "name": "season",
      "options": {
       "widgetDisplayType": "Text",
       "validationRegex": null
      },
      "parameterDataType": "String"
     },
     "widgetInfo": {
      "widgetType": "text",
      "defaultValue": "2024",
      "label": null,
      "name": "season",
      "options": {
       "widgetType": "text",
       "autoCreated": null,
       "validationRegex": null
      }
     }
    },
    "week": {
     "currentValue": "1",
     "nuid": "5cd01cbf-35a4-4669-ab1d-c5aebe0b5384",
     "typedWidgetInfo": {
      "autoCreated": false,
      "defaultValue": "1",
      "label": null,
      "name": "week",
      "options": {
       "widgetDisplayType": "Text",
       "validationRegex": null
      },
      "parameterDataType": "String"
     },
     "widgetInfo": {
      "widgetType": "text",
      "defaultValue": "1",
      "label": null,
      "name": "week",
      "options": {
       "widgetType": "text",
       "autoCreated": null,
       "validationRegex": null
      }
     }
    }
   }
  },
  "language_info": {
   "name": "python"
  }
 },
 "nbformat": 4,
 "nbformat_minor": 0
}
