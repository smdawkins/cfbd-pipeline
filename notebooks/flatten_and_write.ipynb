{
 "cells": [
  {
   "cell_type": "code",
   "execution_count": 0,
   "metadata": {
    "application/vnd.databricks.v1+cell": {
     "cellMetadata": {
      "byteLimit": 2048000,
      "rowLimit": 10000
     },
     "inputWidgets": {},
     "nuid": "4b927b63-5226-4c87-98a7-70636b73cc3a",
     "showTitle": false,
     "tableResultSettingsMap": {},
     "title": ""
    }
   },
   "outputs": [],
   "source": [
    "\n",
    "# Databricks notebook\n",
    "dbutils.widgets.text(\"endpoint\", \"games_teams\")\n",
    "dbutils.widgets.text(\"season\", \"2024\")\n",
    "dbutils.widgets.text(\"week\", \"1\")\n",
    "dbutils.widgets.text(\"catalog\", \"cfbd\")\n",
    "dbutils.widgets.text(\"mode\", \"explode_all\")  # \"flatten_only\" or \"explode_all\"\n",
    "\n",
    "endpoint = dbutils.widgets.get(\"endpoint\")\n",
    "season   = int(dbutils.widgets.get(\"season\"))\n",
    "week     = int(dbutils.widgets.get(\"week\"))\n",
    "catalog  = dbutils.widgets.get(\"catalog\")\n",
    "mode     = dbutils.widgets.get(\"mode\")\n",
    "\n",
    "bronze_schema = f\"{catalog}.bronze\"\n",
    "silver_schema = f\"{catalog}.silver\"\n",
    "spark.sql(f\"CREATE CATALOG IF NOT EXISTS {catalog} MANAGED LOCATION 's3://databricks-workspace-stack-fed2d-bucket/unity-catalog/455082732875091'\")\n",
    "spark.sql(f\"CREATE SCHEMA  IF NOT EXISTS {bronze_schema}\")\n",
    "spark.sql(f\"CREATE SCHEMA  IF NOT EXISTS {silver_schema}\")\n",
    "\n",
    "from cfbd.jobs import run_build_silver_flat\n",
    "target = run_build_silver_flat(spark, silver_schema, bronze_schema, endpoint, season, week, mode)\n",
    "print(f\"Silver table: {target}\")\n"
   ]
  }
 ],
 "metadata": {
  "application/vnd.databricks.v1+notebook": {
   "computePreferences": null,
   "dashboards": [],
   "environmentMetadata": {
    "base_environment": "",
    "environment_version": "2"
   },
   "inputWidgetPreferences": null,
   "language": "python",
   "notebookMetadata": {
    "pythonIndentUnit": 4
   },
   "notebookName": "flatten_and_write",
   "widgets": {
    "catalog": {
     "currentValue": "cfbd",
     "nuid": "7bfa2c7a-7ca7-4799-bf56-3d9baf9b7f78",
     "typedWidgetInfo": {
      "autoCreated": false,
      "defaultValue": "cfbd",
      "label": null,
      "name": "catalog",
      "options": {
       "widgetDisplayType": "Text",
       "validationRegex": null
      },
      "parameterDataType": "String"
     },
     "widgetInfo": {
      "widgetType": "text",
      "defaultValue": "cfbd",
      "label": null,
      "name": "catalog",
      "options": {
       "widgetType": "text",
       "autoCreated": false,
       "validationRegex": null
      }
     }
    },
    "endpoint": {
     "currentValue": "games",
     "nuid": "478cc4f5-098e-4d15-86f9-71fe840048c9",
     "typedWidgetInfo": {
      "autoCreated": false,
      "defaultValue": "games",
      "label": null,
      "name": "endpoint",
      "options": {
       "widgetDisplayType": "Text",
       "validationRegex": null
      },
      "parameterDataType": "String"
     },
     "widgetInfo": {
      "widgetType": "text",
      "defaultValue": "games",
      "label": null,
      "name": "endpoint",
      "options": {
       "widgetType": "text",
       "autoCreated": false,
       "validationRegex": null
      }
     }
    },
    "mode": {
     "currentValue": "explode_all",
     "nuid": "9332fb71-78cc-4da8-beb8-3d0393d3ae5d",
     "typedWidgetInfo": {
      "autoCreated": false,
      "defaultValue": "explode_all",
      "label": null,
      "name": "mode",
      "options": {
       "widgetDisplayType": "Text",
       "validationRegex": null
      },
      "parameterDataType": "String"
     },
     "widgetInfo": {
      "widgetType": "text",
      "defaultValue": "explode_all",
      "label": null,
      "name": "mode",
      "options": {
       "widgetType": "text",
       "autoCreated": false,
       "validationRegex": null
      }
     }
    },
    "season": {
     "currentValue": "2024",
     "nuid": "e8fd9e62-60f0-4589-aa64-800f2d997c91",
     "typedWidgetInfo": {
      "autoCreated": false,
      "defaultValue": "2024",
      "label": null,
      "name": "season",
      "options": {
       "widgetDisplayType": "Text",
       "validationRegex": null
      },
      "parameterDataType": "String"
     },
     "widgetInfo": {
      "widgetType": "text",
      "defaultValue": "2024",
      "label": null,
      "name": "season",
      "options": {
       "widgetType": "text",
       "autoCreated": false,
       "validationRegex": null
      }
     }
    },
    "week": {
     "currentValue": "1",
     "nuid": "e547b891-e772-4fe2-bc1e-e9839e274bf4",
     "typedWidgetInfo": {
      "autoCreated": false,
      "defaultValue": "1",
      "label": null,
      "name": "week",
      "options": {
       "widgetDisplayType": "Text",
       "validationRegex": null
      },
      "parameterDataType": "String"
     },
     "widgetInfo": {
      "widgetType": "text",
      "defaultValue": "1",
      "label": null,
      "name": "week",
      "options": {
       "widgetType": "text",
       "autoCreated": false,
       "validationRegex": null
      }
     }
    }
   }
  },
  "language_info": {
   "name": "python"
  }
 },
 "nbformat": 4,
 "nbformat_minor": 0
}
